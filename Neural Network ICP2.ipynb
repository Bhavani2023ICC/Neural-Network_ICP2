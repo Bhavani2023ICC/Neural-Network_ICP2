{
 "cells": [
  {
   "cell_type": "markdown",
   "id": "083fc8e6",
   "metadata": {},
   "source": [
    "\n",
    "1. Create a class Employee and then do the following\n",
    "• Create a data member to count the number of Employees\n",
    "• Create a constructor to initialize name, family, salary, department\n",
    "• Create a function to average salary\n",
    "• Create a Fulltime Employee class and it should inherit the properties of Employee class\n",
    "• Create the instances of Fulltime Employee class and Employee class and call their member functions"
   ]
  },
  {
   "cell_type": "code",
   "execution_count": 15,
   "id": "9096abe0",
   "metadata": {},
   "outputs": [
    {
     "name": "stdout",
     "output_type": "stream",
     "text": [
      "Employee 1:\n",
      "Name: akansha\n",
      "Family: boga\n",
      "Salary: $500000\n",
      "Department: IT\n",
      "\n",
      "Employee 2:\n",
      "Name: Divya\n",
      "Family: Nair\n",
      "Salary: $650000\n",
      "Department: Managment\n",
      "\n",
      "Fulltime Employee 1:\n",
      "Name: jahnavi\n",
      "Family: nambiar\n",
      "Salary: $800000\n",
      "Department: IT\n",
      "Benefits: Health Insurance, 401k\n",
      "\n",
      "Fulltime Employee 2:\n",
      "Name: jilla\n",
      "Family: jeshwanth\n",
      "Salary: $750000\n",
      "Department: IT\n",
      "Benefits: Health Insurance, 401k\n",
      "\n",
      "Average Salary: $633333.33\n",
      "\n",
      "Total number of employees: 4\n"
     ]
    }
   ],
   "source": [
    "class Employee:\n",
    "    # Class variable to count the number of employees\n",
    "    employee_count = 0\n",
    "\n",
    "    def __init__(self, name, family, salary, department):\n",
    "        self.name = name\n",
    "        self.family = family\n",
    "        self.salary = salary\n",
    "        self.department = department\n",
    "        Employee.employee_count += 1\n",
    "\n",
    "    @classmethod\n",
    "    def average_salary(cls, employees):\n",
    "        if not employees:\n",
    "            return 0\n",
    "        total_salary = sum(employee.salary for employee in employees)\n",
    "        return total_salary / len(employees)\n",
    "\n",
    "    def display_info(self):\n",
    "        print(f\"Name: {self.name}\")\n",
    "        print(f\"Family: {self.family}\")\n",
    "        print(f\"Salary: ${self.salary}\")\n",
    "        print(f\"Department: {self.department}\")\n",
    "\n",
    "\n",
    "class FulltimeEmployee(Employee):\n",
    "    def __init__(self, name, family, salary, department, benefits):\n",
    "        super().__init__(name, family, salary, department)\n",
    "        self.benefits = benefits\n",
    "\n",
    "    def display_info(self):\n",
    "        super().display_info()\n",
    "        print(f\"Benefits: {self.benefits}\")\n",
    "\n",
    "\n",
    "# Create instances of Employee and FulltimeEmployee classes\n",
    "employee1 = Employee(\"akansha\", \"boga\", 500000, \"IT\")\n",
    "employee2 = Employee(\"Divya\", \"Nair\", 650000, \"Managment\")\n",
    "fulltime_employee1 = FulltimeEmployee(\"jahnavi\", \"nambiar\", 800000, \"IT\", \"Health Insurance, 401k\")\n",
    "fulltime_employee2 = FulltimeEmployee(\"jilla\", \"jeshwanth\", 750000, \"IT\", \"Health Insurance, 401k\")\n",
    "\n",
    "# Display employee information\n",
    "print(\"Employee 1:\")\n",
    "employee1.display_info()\n",
    "print(\"\\nEmployee 2:\")\n",
    "employee2.display_info()\n",
    "print(\"\\nFulltime Employee 1:\")\n",
    "fulltime_employee1.display_info()\n",
    "print(\"\\nFulltime Employee 2:\")\n",
    "fulltime_employee2.display_info()\n",
    "\n",
    "# Calculate and display average salary\n",
    "employees = [employee1, employee2, fulltime_employee]\n",
    "avg_salary = Employee.average_salary(employees)\n",
    "print(f\"\\nAverage Salary: ${avg_salary:.2f}\")\n",
    "\n",
    "# Display total number of employees\n",
    "print(f\"\\nTotal number of employees: {Employee.employee_count}\")"
   ]
  },
  {
   "cell_type": "markdown",
   "id": "c7166d96",
   "metadata": {},
   "source": [
    "2. Numpy\n",
    "Using NumPy create random vector of size 20 having only float in the range 1-20.\n",
    "Then reshape the array to 4 by 5\n",
    "Then replace the max in each row by 0 (axis=1)\n",
    "(you can NOT implement it via for loop)"
   ]
  },
  {
   "cell_type": "code",
   "execution_count": 16,
   "id": "ac1144c7",
   "metadata": {},
   "outputs": [
    {
     "name": "stdout",
     "output_type": "stream",
     "text": [
      "Original vector:\n",
      "[ 4.40370801  6.56732857 14.7376441  15.32430861  6.62390073  9.97821128\n",
      "  7.8796367   7.536244    8.29364687 10.83556641 12.25832232 13.21598432\n",
      "  5.68901374 19.57791514 14.27091992  9.4724292   8.63969777 14.45849125\n",
      "  5.42395536 16.10533369]\n",
      "\n",
      "Reshaped array (4x5):\n",
      "[[ 4.40370801  6.56732857 14.7376441  15.32430861  6.62390073]\n",
      " [ 9.97821128  7.8796367   7.536244    8.29364687 10.83556641]\n",
      " [12.25832232 13.21598432  5.68901374 19.57791514 14.27091992]\n",
      " [ 9.4724292   8.63969777 14.45849125  5.42395536 16.10533369]]\n",
      "\n",
      "Array with max values replaced by 0 in each row:\n",
      "[[ 4.40370801  6.56732857 14.7376441   0.          6.62390073]\n",
      " [ 9.97821128  7.8796367   7.536244    8.29364687  0.        ]\n",
      " [12.25832232 13.21598432  5.68901374  0.         14.27091992]\n",
      " [ 9.4724292   8.63969777 14.45849125  5.42395536  0.        ]]\n"
     ]
    }
   ],
   "source": [
    "import numpy as np\n",
    "\n",
    "# Step 1: Create a random vector of size 20 with floats in the range 1-20\n",
    "array = np.random.uniform(1, 20, 20)\n",
    "\n",
    "# Step 2: Reshape the array to 4 by 5\n",
    "reshaped_array = array.reshape(4, 5)\n",
    "\n",
    "# Step 3: Replace the max in each row by 0 (axis=1)\n",
    "# First, we create a boolean mask where True indicates the maximum value in each row\n",
    "max_replace = reshaped_array == np.max(reshaped_array, axis=1, keepdims=True)\n",
    "\n",
    "# Then, we use this mask to replace the max values with 0\n",
    "result = np.where(max_replace, 0, reshaped_array)\n",
    "\n",
    "# Print the results\n",
    "print(\"Original vector:\")\n",
    "print(array)\n",
    "print(\"\\nReshaped array (4x5):\")\n",
    "print(reshaped_array)\n",
    "print(\"\\nArray with max values replaced by 0 in each row:\")\n",
    "print(result)"
   ]
  },
  {
   "cell_type": "code",
   "execution_count": null,
   "id": "56376f0d",
   "metadata": {},
   "outputs": [],
   "source": []
  },
  {
   "cell_type": "code",
   "execution_count": null,
   "id": "13f8465f",
   "metadata": {},
   "outputs": [],
   "source": []
  },
  {
   "cell_type": "code",
   "execution_count": null,
   "id": "0a347e43",
   "metadata": {},
   "outputs": [],
   "source": []
  }
 ],
 "metadata": {
  "kernelspec": {
   "display_name": "Python 3 (ipykernel)",
   "language": "python",
   "name": "python3"
  },
  "language_info": {
   "codemirror_mode": {
    "name": "ipython",
    "version": 3
   },
   "file_extension": ".py",
   "mimetype": "text/x-python",
   "name": "python",
   "nbconvert_exporter": "python",
   "pygments_lexer": "ipython3",
   "version": "3.11.5"
  }
 },
 "nbformat": 4,
 "nbformat_minor": 5
}
